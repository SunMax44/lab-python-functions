{
 "cells": [
  {
   "cell_type": "markdown",
   "id": "25d7736c-ba17-4aff-b6bb-66eba20fbf4e",
   "metadata": {},
   "source": [
    "# Lab | Functions"
   ]
  },
  {
   "cell_type": "markdown",
   "id": "0c581062-8967-4d93-b06e-62833222f930",
   "metadata": {
    "tags": []
   },
   "source": [
    "## Exercise: Managing Customer Orders with Functions\n",
    "\n",
    "In the previous exercise, you improved the code for managing customer orders by using loops and flow control. Now, let's take it a step further and refactor the code by introducing functions.\n",
    "\n",
    "Follow the steps below to complete the exercise:\n",
    "\n",
    "1. Define a function named `initialize_inventory` that takes `products` as a parameter. Inside the function, implement the code for initializing the inventory dictionary using a loop and user input.\n",
    "\n",
    "2. Define a function named `get_customer_orders` that takes no parameters. Inside the function, implement the code for prompting the user to enter the product names using a loop. The function should return the `customer_orders` set.\n",
    "\n",
    "3. Define a function named `update_inventory` that takes `customer_orders` and `inventory` as parameters. Inside the function, implement the code for updating the inventory dictionary based on the customer orders.\n",
    "\n",
    "4. Define a function named `calculate_order_statistics` that takes `customer_orders` and `products` as parameters. Inside the function, implement the code for calculating the order statistics (total products ordered, and percentage of unique products ordered). The function should return these values.\n",
    "\n",
    "5. Define a function named `print_order_statistics` that takes `order_statistics` as a parameter. Inside the function, implement the code for printing the order statistics.\n",
    "\n",
    "6. Define a function named `print_updated_inventory` that takes `inventory` as a parameter. Inside the function, implement the code for printing the updated inventory.\n",
    "\n",
    "7. Call the functions in the appropriate sequence to execute the program and manage customer orders.\n",
    "\n",
    "Hints for functions:\n",
    "\n",
    "- Consider the input parameters required for each function and their return values.\n",
    "- Utilize function parameters and return values to transfer data between functions.\n",
    "- Test your functions individually to ensure they work correctly.\n",
    "\n",
    "\n"
   ]
  },
  {
   "cell_type": "code",
   "execution_count": 77,
   "id": "548a7c99-e869-4a2a-ae22-992ac81c0d95",
   "metadata": {},
   "outputs": [],
   "source": [
    "#Define a function named initialize_inventory that takes products as a parameter.\n",
    "#Inside the function, implement the code for initializing the inventory dictionary using a loop and user input.\n",
    "#define function:\n",
    "\n",
    "def initialize_inventory(products):\n",
    "    product_inv = {}\n",
    "    for index in range(len(products)):\n",
    "        product_inv[products[index]] = input(f\"Please input the inventory's quantity of {products[index]}!\")\n",
    "    return product_inv"
   ]
  },
  {
   "cell_type": "code",
   "execution_count": 78,
   "id": "76ae7f39-4685-432f-8e21-cf55fbe5d91b",
   "metadata": {},
   "outputs": [],
   "source": [
    "#Define a function named get_customer_orders that takes no parameters.\n",
    "#Inside the function, implement the code for prompting the user to enter the product names using a loop.\n",
    "#The function should return the customer_orders set.\n",
    "def get_customer_orders():\n",
    "    customer_orders = set()\n",
    "    another_order = 'yes'\n",
    "    while another_order == 'yes':\n",
    "        customer_orders.add(input('Please enter your order. Today we sell t-shirt, mug, hat, book, keychain'))\n",
    "        another_order = input('Do you want to order another product? Please answer with \"yes\" or \"no\".')\n",
    "    return customer_orders"
   ]
  },
  {
   "cell_type": "code",
   "execution_count": 79,
   "id": "ffcb0a57-1abe-4bb6-b4de-870d246bc73a",
   "metadata": {},
   "outputs": [],
   "source": [
    "#Define a function named update_inventory that takes customer_orders and inventory as parameters.\n",
    "#Inside the function, implement the code for updating the inventory dictionary based on the customer orders.\n",
    "\n",
    "def update_inventory(customer_orders, inventory):\n",
    "    for key in inventory:\n",
    "        if key in customer_orders:\n",
    "            inventory[key] = int(inventory[key]) -1\n",
    "    print(inventory)\n",
    "    return inventory\n",
    "\n",
    "#products = ['t-shirt', 'mug', 'hat', 'book', 'keychain']\n",
    "#ex_customer_orders = get_customer_orders()\n",
    "#ex_inventory = initialize_inventory(products)\n",
    "#update_inventory(ex_customer_orders, ex_inventory)"
   ]
  },
  {
   "cell_type": "code",
   "execution_count": 80,
   "id": "172b3fcf-884f-41c9-a159-b5c54834dd8a",
   "metadata": {},
   "outputs": [],
   "source": [
    "#Define a function named calculate_order_statistics that takes customer_orders and products as parameters.\n",
    "#Inside the function, implement the code for calculating the order statistics (total products ordered, and percentage of unique products\n",
    "#ordered). The function should return these values.\n",
    "def calculate_order_statistics(customer_orders, products):\n",
    "    tot_prod_ordered = len(customer_orders)\n",
    "    percent_unique_prod_ordered = tot_prod_ordered / len(products)\n",
    "    order_statistics = [tot_prod_ordered, percent_unique_prod_ordered]\n",
    "    return order_statistics\n",
    "\n",
    "#calculate_order_statistics(ex_customer_orders, ex_products)"
   ]
  },
  {
   "cell_type": "code",
   "execution_count": 81,
   "id": "48130b4d-6341-4f5f-8ef4-f0b88364c5d4",
   "metadata": {},
   "outputs": [],
   "source": [
    "#Define a function named print_order_statistics that takes order_statistics as a parameter.\n",
    "#Inside the function, implement the code for printing the order statistics.\n",
    "def print_order_statistics(order_statistics):\n",
    "    print(f'Order statistics\\nTotal of products ordered is: {order_statistics[0]}\\nThe percentage of products ordered is: {order_statistics[1]}')\n"
   ]
  },
  {
   "cell_type": "code",
   "execution_count": 82,
   "id": "cb9c2424-a73a-406f-b9dc-634d03ab1bc6",
   "metadata": {},
   "outputs": [],
   "source": [
    "#Define a function named print_updated_inventory that takes inventory as a parameter.\n",
    "#Inside the function, implement the code for printing the updated inventory.\n",
    "def print_updated_inventory(inventory):\n",
    "    for key, value in inventory.items():\n",
    "        print(f'{value} {key}s in inventory.')"
   ]
  },
  {
   "cell_type": "code",
   "execution_count": 83,
   "id": "9673b011-0004-40f1-93f2-697fad4a3013",
   "metadata": {},
   "outputs": [
    {
     "name": "stdin",
     "output_type": "stream",
     "text": [
      "Please input the inventory's quantity of t-shirt! 5\n",
      "Please input the inventory's quantity of hat! 5\n",
      "Please input the inventory's quantity of mug! 5\n",
      "Please input the inventory's quantity of book! \n",
      "Please input the inventory's quantity of keychain! 5\n",
      "Please enter your order. Today we sell t-shirt, mug, hat, book, keychain keychain\n",
      "Do you want to order another product? Please answer with \"yes\" or \"no\". no\n"
     ]
    },
    {
     "name": "stdout",
     "output_type": "stream",
     "text": [
      "{'t-shirt': '5', 'hat': '5', 'mug': '5', 'book': '', 'keychain': 4}\n",
      "Order statistics\n",
      "Total of products ordered is: 1\n",
      "The percentage of products ordered is: 0.2\n",
      "5 t-shirts in inventory.\n",
      "5 hats in inventory.\n",
      "5 mugs in inventory.\n",
      " books in inventory.\n",
      "4 keychains in inventory.\n"
     ]
    }
   ],
   "source": [
    "#Call the functions in the appropriate sequence to execute the program and manage customer orders.\n",
    "ex_products = ['t-shirt','hat','mug','book','keychain']\n",
    "ex_inventory = initialize_inventory(ex_products)\n",
    "ex_customer_orders = get_customer_orders()\n",
    "ex_updated_inventory = update_inventory(ex_customer_orders, ex_inventory)\n",
    "ex_order_statistics = calculate_order_statistics(ex_customer_orders, ex_products)\n",
    "print_order_statistics(ex_order_statistics)\n",
    "print_updated_inventory(ex_updated_inventory)"
   ]
  }
 ],
 "metadata": {
  "kernelspec": {
   "display_name": "Python 3 (ipykernel)",
   "language": "python",
   "name": "python3"
  },
  "language_info": {
   "codemirror_mode": {
    "name": "ipython",
    "version": 3
   },
   "file_extension": ".py",
   "mimetype": "text/x-python",
   "name": "python",
   "nbconvert_exporter": "python",
   "pygments_lexer": "ipython3",
   "version": "3.12.4"
  }
 },
 "nbformat": 4,
 "nbformat_minor": 5
}
